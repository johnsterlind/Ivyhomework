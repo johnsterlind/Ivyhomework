{
 "cells": [
  {
   "cell_type": "code",
   "execution_count": 3,
   "id": "4402e880-1cf1-4d1c-963b-f574f0e146cc",
   "metadata": {},
   "outputs": [
    {
     "name": "stdout",
     "output_type": "stream",
     "text": [
      "Writing zoo.py\n"
     ]
    }
   ],
   "source": [
    "%%writefile zoo.py\n",
    "def hours():\n",
    "    print(\"Open 9-5 daily\")"
   ]
  },
  {
   "cell_type": "code",
   "execution_count": 5,
   "id": "4b233759-018e-417d-90db-1047dcd4f854",
   "metadata": {},
   "outputs": [
    {
     "name": "stdout",
     "output_type": "stream",
     "text": [
      "Open 9-5 daily\n"
     ]
    }
   ],
   "source": [
    "import zoo\n",
    "zoo.hours()"
   ]
  },
  {
   "cell_type": "code",
   "execution_count": 7,
   "id": "bdb044de-ed10-426f-bf2a-ce06c731ec1f",
   "metadata": {
    "scrolled": true
   },
   "outputs": [
    {
     "name": "stdout",
     "output_type": "stream",
     "text": [
      "Open 9-5 daily\n"
     ]
    }
   ],
   "source": [
    "import zoo as menagerie\n",
    "menagerie.hours()"
   ]
  },
  {
   "cell_type": "code",
   "execution_count": 1,
   "id": "e7bbd8f4-1835-4ed3-90ff-bc185acc0f44",
   "metadata": {},
   "outputs": [
    {
     "name": "stdout",
     "output_type": "stream",
     "text": [
      "Requirement already satisfied: sqlalchemy in /opt/anaconda3/lib/python3.12/site-packages (2.0.34)\n",
      "Requirement already satisfied: typing-extensions>=4.6.0 in /opt/anaconda3/lib/python3.12/site-packages (from sqlalchemy) (4.11.0)\n"
     ]
    }
   ],
   "source": [
    "!pip install sqlalchemy"
   ]
  },
  {
   "cell_type": "code",
   "execution_count": 5,
   "id": "4843c653-8198-48b8-85e8-183034b8c13e",
   "metadata": {},
   "outputs": [],
   "source": [
    "data = '''author,book\n",
    "J R R Tolkien,The Hobbit\n",
    "Lynne Truss,\"Eats, Shoots & Leaves\"'''\n",
    "\n",
    "with open('books.csv', 'w') as f:\n",
    "    f.write(data)"
   ]
  },
  {
   "cell_type": "code",
   "execution_count": 7,
   "id": "a14a240b-12b1-443c-a773-e093ea4290c9",
   "metadata": {},
   "outputs": [
    {
     "name": "stdout",
     "output_type": "stream",
     "text": [
      "{'author': 'J R R Tolkien', 'book': 'The Hobbit'}\n",
      "{'author': 'Lynne Truss', 'book': 'Eats, Shoots & Leaves'}\n"
     ]
    }
   ],
   "source": [
    "import csv\n",
    "\n",
    "with open('books.csv', newline='') as csvfile:\n",
    "    reader = csv.DictReader(csvfile)\n",
    "    books = [row for row in reader]\n",
    "\n",
    "# Print the values in books\n",
    "for book in books:\n",
    "    print(book)"
   ]
  },
  {
   "cell_type": "code",
   "execution_count": 9,
   "id": "3e2df45c-6ec3-44d9-89f3-9f6b2cfe821c",
   "metadata": {},
   "outputs": [],
   "source": [
    "data2 = '''title,author,year\n",
    "The Weirdstone of Brisingamen,Alan Garner,1960\n",
    "Perdido Street Station,China Miéville,2000\n",
    "Thud!,Terry Pratchett,2005\n",
    "The Spellman Files,Lisa Lutz,2007\n",
    "Small Gods,Terry Pratchett,1992'''\n",
    "\n",
    "with open('books2.csv', 'w') as f:\n",
    "    f.write(data2)"
   ]
  },
  {
   "cell_type": "code",
   "execution_count": 11,
   "id": "9195bba8-5769-4504-b5e2-f6564687544b",
   "metadata": {},
   "outputs": [],
   "source": [
    "import sqlite3\n",
    "\n",
    "# Connect to the SQLite database\n",
    "conn = sqlite3.connect('books.db')\n",
    "c = conn.cursor()\n",
    "\n",
    "# Create the books table\n",
    "c.execute('''\n",
    "    CREATE TABLE IF NOT EXISTS books (\n",
    "        title TEXT,\n",
    "        author TEXT,\n",
    "        year INTEGER\n",
    "    )\n",
    "''')\n",
    "\n",
    "conn.commit()\n",
    "conn.close()"
   ]
  },
  {
   "cell_type": "code",
   "execution_count": 13,
   "id": "a3e1070d-e8d3-4b11-ac8b-d993cbaaca79",
   "metadata": {},
   "outputs": [],
   "source": [
    "with open('books2.csv', newline='') as csvfile:\n",
    "    reader = csv.DictReader(csvfile)\n",
    "    # Insert data into the database\n",
    "    conn = sqlite3.connect('books.db')\n",
    "    c = conn.cursor()\n",
    "\n",
    "    for row in reader:\n",
    "        c.execute('''\n",
    "            INSERT INTO books (title, author, year)\n",
    "            VALUES (?, ?, ?)\n",
    "        ''', (row['title'], row['author'], row['year']))\n",
    "\n",
    "    conn.commit()\n",
    "    conn.close()"
   ]
  },
  {
   "cell_type": "code",
   "execution_count": 15,
   "id": "73a3f2c8-e92b-47a4-b4e6-23cbef853fd1",
   "metadata": {},
   "outputs": [
    {
     "name": "stdout",
     "output_type": "stream",
     "text": [
      "Perdido Street Station\n",
      "Small Gods\n",
      "The Spellman Files\n",
      "The Weirdstone of Brisingamen\n",
      "Thud!\n"
     ]
    }
   ],
   "source": [
    "conn = sqlite3.connect('books.db')\n",
    "c = conn.cursor()\n",
    "\n",
    "# Query the title column ordered alphabetically\n",
    "c.execute('SELECT title FROM books ORDER BY title ASC')\n",
    "titles = c.fetchall()\n",
    "\n",
    "for title in titles:\n",
    "    print(title[0])\n",
    "\n",
    "conn.close()"
   ]
  },
  {
   "cell_type": "code",
   "execution_count": 17,
   "id": "46890bb0-e223-49f5-9831-38315510c6dd",
   "metadata": {},
   "outputs": [
    {
     "name": "stdout",
     "output_type": "stream",
     "text": [
      "('The Weirdstone of Brisingamen', 'Alan Garner', 1960)\n",
      "('Small Gods', 'Terry Pratchett', 1992)\n",
      "('Perdido Street Station', 'China Miéville', 2000)\n",
      "('Thud!', 'Terry Pratchett', 2005)\n",
      "('The Spellman Files', 'Lisa Lutz', 2007)\n"
     ]
    }
   ],
   "source": [
    "conn = sqlite3.connect('books.db')\n",
    "c = conn.cursor()\n",
    "\n",
    "# Query all columns ordered by year\n",
    "c.execute('SELECT * FROM books ORDER BY year ASC')\n",
    "books = c.fetchall()\n",
    "\n",
    "for book in books:\n",
    "    print(book)\n",
    "\n",
    "conn.close()"
   ]
  },
  {
   "cell_type": "code",
   "execution_count": 25,
   "id": "fe3ce6e6-8d83-4981-bd42-8dd839f9d884",
   "metadata": {},
   "outputs": [
    {
     "name": "stdout",
     "output_type": "stream",
     "text": [
      "Perdido Street Station\n",
      "Small Gods\n",
      "The Spellman Files\n",
      "The Weirdstone of Brisingamen\n",
      "Thud!\n"
     ]
    }
   ],
   "source": [
    "from sqlalchemy import create_engine, Table, MetaData, select\n",
    "\n",
    "# Create the engine to connect to the SQLite database\n",
    "engine = create_engine('sqlite:///books.db')\n",
    "\n",
    "# Create a metadata object to store information about the database\n",
    "metadata = MetaData()\n",
    "\n",
    "# Reflect the existing database into the books table\n",
    "books = Table('books', metadata, autoload_with=engine)\n",
    "\n",
    "# Create a select query for the title column\n",
    "stmt = select(books.c.title).order_by(books.c.title.asc())\n",
    "\n",
    "# Execute the query and print the results\n",
    "with engine.connect() as connection:\n",
    "    result = connection.execute(stmt)\n",
    "    for row in result:\n",
    "        print(row[0])  # Access the first column (title) using index 0"
   ]
  },
  {
   "cell_type": "code",
   "execution_count": 27,
   "id": "47126cff-5c23-424c-b0fe-1265fe1ccfc4",
   "metadata": {},
   "outputs": [
    {
     "name": "stdout",
     "output_type": "stream",
     "text": [
      "('The Weirdstone of Brisingamen', 'Alan Garner', 1960)\n",
      "('Small Gods', 'Terry Pratchett', 1992)\n",
      "('Perdido Street Station', 'China Miéville', 2000)\n",
      "('Thud!', 'Terry Pratchett', 2005)\n",
      "('The Spellman Files', 'Lisa Lutz', 2007)\n"
     ]
    }
   ],
   "source": [
    "# Create a select query to get all columns and order by year\n",
    "stmt = select(books).order_by(books.c.year.asc())\n",
    "\n",
    "# Execute the query and print the results\n",
    "with engine.connect() as connection:\n",
    "    result = connection.execute(stmt)\n",
    "    for row in result:\n",
    "        print(row)  # This prints all columns for each row"
   ]
  },
  {
   "cell_type": "code",
   "execution_count": 29,
   "id": "006cfafa-9b62-429c-980d-3fdcdbcfd89c",
   "metadata": {},
   "outputs": [
    {
     "name": "stdout",
     "output_type": "stream",
     "text": [
      "Perdido Street Station\n",
      "Small Gods\n",
      "The Spellman Files\n",
      "The Weirdstone of Brisingamen\n",
      "Thud!\n"
     ]
    }
   ],
   "source": [
    "# Create the select query for the title column, ordered alphabetically\n",
    "stmt = select(books.c.title).order_by(books.c.title.asc())\n",
    "\n",
    "# Execute the query and print the results\n",
    "with engine.connect() as connection:\n",
    "    result = connection.execute(stmt)\n",
    "    for row in result:\n",
    "        print(row[0])  # Access the title using index 0"
   ]
  },
  {
   "cell_type": "code",
   "execution_count": null,
   "id": "982c4316-73cf-4e1a-a7f3-750e426dd468",
   "metadata": {},
   "outputs": [],
   "source": []
  }
 ],
 "metadata": {
  "kernelspec": {
   "display_name": "Python 3 (ipykernel)",
   "language": "python",
   "name": "python3"
  },
  "language_info": {
   "codemirror_mode": {
    "name": "ipython",
    "version": 3
   },
   "file_extension": ".py",
   "mimetype": "text/x-python",
   "name": "python",
   "nbconvert_exporter": "python",
   "pygments_lexer": "ipython3",
   "version": "3.12.7"
  }
 },
 "nbformat": 4,
 "nbformat_minor": 5
}
